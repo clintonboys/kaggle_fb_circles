{
 "metadata": {
  "name": "",
  "signature": "sha256:ff42993fa27493c5124e7c626702f56ffea2b1e6ebc27c3a9d7020beda49c913"
 },
 "nbformat": 3,
 "nbformat_minor": 0,
 "worksheets": [
  {
   "cells": [
    {
     "cell_type": "code",
     "collapsed": false,
     "input": [
      "import pandas as pd\n",
      "import numpy as np\n",
      "import os\n",
      "from pandas import read_csv\n",
      "from pandas import DataFrame as df\n",
      "import logging\n",
      "reload(logging)\n",
      "logging.basicConfig(format = u'[%(asctime)s]  %(message)s', level = logging.INFO)\n",
      "from collections import Counter\n",
      "import networkx as nx\n",
      "from pylab import *\n",
      "import sys\n",
      "import numpy\n",
      "import networkx as nx"
     ],
     "language": "python",
     "metadata": {},
     "outputs": [],
     "prompt_number": 2
    },
    {
     "cell_type": "heading",
     "level": 3,
     "metadata": {},
     "source": [
      "Import features and features' names"
     ]
    },
    {
     "cell_type": "code",
     "collapsed": false,
     "input": [
      "f = open('data/featureList.txt')\n",
      "features = f.readlines()\n",
      "features = map(lambda x: x[:-1], features)"
     ],
     "language": "python",
     "metadata": {},
     "outputs": [],
     "prompt_number": 3
    },
    {
     "cell_type": "code",
     "collapsed": false,
     "input": [
      "filem = open('data/features.txt')\n",
      "fm = filem.readlines()\n",
      "fm = map(lambda x: x[:-1], fm)"
     ],
     "language": "python",
     "metadata": {},
     "outputs": [],
     "prompt_number": 4
    },
    {
     "cell_type": "code",
     "collapsed": false,
     "input": [
      "fmatrix = df(columns=features)\n",
      "\n",
      "def extract(fma, user, x):\n",
      "    match = re.search(r'([\\w;]+);(\\d+)', x)\n",
      "    m = match.groups()\n",
      "    fma.ix[user, m[0]] = m[1]\n",
      "    \n",
      "def doline(x):\n",
      "    l = x.split(' ')\n",
      "    fma = df(columns=features)\n",
      "    for i in range(1,len(l)):\n",
      "        extract(fma, l[0],l[i])\n",
      "    return fma.values[0]\n",
      "\n",
      "from multiprocessing import Pool\n",
      "pool = Pool(6)\n",
      "\n",
      "logging.info('Started parallel map')\n",
      "fmatrix = df(pool.map(doline, fm),columns=features)\n",
      "logging.info('Done!')\n",
      "\n",
      "fmatrix = fmatrix.astype(float)\n",
      "fmatrix.to_csv('data/fmatrix.csv',index=False)"
     ],
     "language": "python",
     "metadata": {},
     "outputs": [
      {
       "output_type": "stream",
       "stream": "stderr",
       "text": [
        "[2014-10-19 00:18:37,570]  Started parallel map\n",
        "[2014-10-19 00:19:12,564]  Done!\n"
       ]
      }
     ],
     "prompt_number": 5
    },
    {
     "cell_type": "code",
     "collapsed": false,
     "input": [
      "fmatrix = read_csv('data/fmatrix.csv')"
     ],
     "language": "python",
     "metadata": {},
     "outputs": [],
     "prompt_number": 6
    },
    {
     "cell_type": "heading",
     "level": 3,
     "metadata": {},
     "source": [
      "Import egonets and training"
     ]
    },
    {
     "cell_type": "code",
     "collapsed": false,
     "input": [
      "path = 'data/egonets/'\n",
      "egonets =os.listdir(path)\n",
      "\n",
      "friends = []\n",
      "\n",
      "for fle in egonets:\n",
      "    f = open(path+fle)\n",
      "    lines = f.readlines()\n",
      "    lines = map(lambda x: x[:-1], lines)\n",
      "    \n",
      "    for line in lines:\n",
      "        l2 = line.split(': ')\n",
      "        for sec in l2[1].split(' '):\n",
      "            friends.append((fle[:-7],l2[0],sec))\n",
      "        \n",
      "friends = df(friends, columns=['user','friend','friend_of_friend'])\n",
      "\n",
      "#forever_alone are people who has no friends but the main user for this egonet\n",
      "#if you find someone who dont present in this table, count him as separate group (check if it legal by youself)\n",
      "forever_alone = friends[friends.friend_of_friend == ''].drop(['friend_of_friend'], axis=1).reset_index().drop(['index'], axis=1).astype('float').astype('int')\n",
      "\n",
      "friends = friends[friends.friend_of_friend != ''].reset_index().drop(['index'], axis=1).astype('float').astype('int')"
     ],
     "language": "python",
     "metadata": {},
     "outputs": [],
     "prompt_number": 7
    },
    {
     "cell_type": "code",
     "collapsed": false,
     "input": [
      "friends.to_csv('data/friends.csv',index=False)"
     ],
     "language": "python",
     "metadata": {},
     "outputs": [],
     "prompt_number": 8
    },
    {
     "cell_type": "code",
     "collapsed": false,
     "input": [
      "friends[['friend','friend_of_friend']].rename(columns={'friend':'Source','friend_of_friend':'Target'}).to_csv('data/friends_gephi.csv',index=False)"
     ],
     "language": "python",
     "metadata": {},
     "outputs": [],
     "prompt_number": 9
    },
    {
     "cell_type": "code",
     "collapsed": false,
     "input": [
      "path = 'data/Training/'\n",
      "training = os.listdir(path)\n",
      "\n",
      "circles = []\n",
      "\n",
      "for fle in training:\n",
      "    f = open(path+fle)\n",
      "    lines = f.readlines()\n",
      "    lines = map(lambda x: x[:-1], lines)\n",
      "    \n",
      "    for line in lines:\n",
      "        l2 = line.split(': ')\n",
      "        for sec in l2[1].split(' '):\n",
      "            circles.append((fle[:-8],l2[0][6:],sec))\n",
      "            \n",
      "circles = df(circles, columns=['user','circle','friend']).astype('float').astype('int')"
     ],
     "language": "python",
     "metadata": {},
     "outputs": [],
     "prompt_number": 10
    },
    {
     "cell_type": "code",
     "collapsed": false,
     "input": [
      "circles.to_csv('data/circles.csv',index=False)"
     ],
     "language": "python",
     "metadata": {},
     "outputs": [],
     "prompt_number": 11
    },
    {
     "cell_type": "heading",
     "level": 3,
     "metadata": {},
     "source": [
      "Merge info from egonets and training"
     ]
    },
    {
     "cell_type": "code",
     "collapsed": false,
     "input": [
      "merged = pd.merge(friends,circles, how='left')\n",
      "merged.dtypes"
     ],
     "language": "python",
     "metadata": {},
     "outputs": [
      {
       "metadata": {},
       "output_type": "pyout",
       "prompt_number": 12,
       "text": [
        "user                  int64\n",
        "friend                int64\n",
        "friend_of_friend      int64\n",
        "circle              float64\n",
        "dtype: object"
       ]
      }
     ],
     "prompt_number": 12
    },
    {
     "cell_type": "code",
     "collapsed": false,
     "input": [
      "merged.to_csv('data/friend_and_circles.csv', index=False)"
     ],
     "language": "python",
     "metadata": {},
     "outputs": [],
     "prompt_number": 13
    },
    {
     "cell_type": "code",
     "collapsed": false,
     "input": [
      "users = list(circles.user.unique())\n",
      "train = list((Counter(map(lambda x: int(x[:-7]),egonets)) & Counter(map(lambda x: int(x[:-8]),training))).elements())\n",
      "test = list((Counter(map(lambda x: int(x[:-7]),egonets)) - Counter(train)).elements())\n",
      "path = 'data/egonets/'"
     ],
     "language": "python",
     "metadata": {},
     "outputs": [],
     "prompt_number": 14
    },
    {
     "cell_type": "code",
     "collapsed": false,
     "input": [],
     "language": "python",
     "metadata": {},
     "outputs": [],
     "prompt_number": 17
    },
    {
     "cell_type": "code",
     "collapsed": true,
     "input": [],
     "language": "python",
     "metadata": {},
     "outputs": []
    }
   ],
   "metadata": {}
  }
 ]
}