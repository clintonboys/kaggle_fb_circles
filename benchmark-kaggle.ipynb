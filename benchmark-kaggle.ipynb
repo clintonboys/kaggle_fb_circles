{
 "metadata": {
  "name": "",
  "signature": "sha256:878b2bdbfad735ca7cbc2a4355162049cf2ec2914bfa6a6cdef805c253419f66"
 },
 "nbformat": 3,
 "nbformat_minor": 0,
 "worksheets": [
  {
   "cells": [
    {
     "cell_type": "code",
     "collapsed": false,
     "input": [
      "import pandas as pd\n",
      "import numpy as np\n",
      "import os\n",
      "from pandas import read_csv\n",
      "from pandas import DataFrame as df\n",
      "import logging\n",
      "reload(logging)\n",
      "logging.basicConfig(format = u'[%(asctime)s]  %(message)s', level = logging.INFO)\n",
      "from collections import Counter\n",
      "import networkx as nx\n",
      "import random\n",
      "from pylab import *\n",
      "import sys"
     ],
     "language": "python",
     "metadata": {},
     "outputs": [],
     "prompt_number": 1
    },
    {
     "cell_type": "heading",
     "level": 3,
     "metadata": {},
     "source": [
      "Load data"
     ]
    },
    {
     "cell_type": "code",
     "collapsed": false,
     "input": [
      "f = open('data/featureList.txt')\n",
      "features = f.readlines()\n",
      "features = map(lambda x: x[:-1], features)\n",
      "\n",
      "friends_circles = read_csv('data/friend_and_circles.csv')\n",
      "circles = read_csv('data/circles.csv')\n",
      "friends = read_csv('data/friends.csv')\n",
      "fmatrix = read_csv('data/fmatrix.csv')"
     ],
     "language": "python",
     "metadata": {},
     "outputs": [],
     "prompt_number": 2
    },
    {
     "cell_type": "code",
     "collapsed": false,
     "input": [
      "path = 'data/Training/'\n",
      "training = os.listdir(path)\n",
      "\n",
      "path = 'data/egonets/'\n",
      "egonets =os.listdir(path)\n",
      "\n",
      "users = list(circles.user.unique())\n",
      "train = list((Counter(map(lambda x: int(x[:-7]),egonets)) & Counter(map(lambda x: int(x[:-8]),training))).elements())\n",
      "test = list((Counter(map(lambda x: int(x[:-7]),egonets)) - Counter(train)).elements())"
     ],
     "language": "python",
     "metadata": {},
     "outputs": [],
     "prompt_number": 3
    },
    {
     "cell_type": "code",
     "collapsed": false,
     "input": [
      "def maxrank(user):\n",
      "    G = nx.Graph()\n",
      "    for i,j in friends[friends.user == user].iterrows():\n",
      "        G.add_edge(j.values[1],j.values[2])\n",
      "    rankDictionary = nx.pagerank(G)\n",
      "    ranks = list(rankDictionary.values())\n",
      "    nodes = list(rankDictionary.keys())\n",
      "    maximumRankedNode = nodes[ranks.index(max(ranks))]\n",
      "    minimumRankedNode = nodes[ranks.index(min(ranks))]\n",
      "    return maximumRankedNode\n",
      "\n",
      "def get_graph(user):\n",
      "    G = nx.Graph()\n",
      "    for i,j in friends[friends.user == user].iterrows():\n",
      "        G.add_edge(j.values[1],j.values[2])\n",
      "    return G"
     ],
     "language": "python",
     "metadata": {},
     "outputs": [],
     "prompt_number": 4
    },
    {
     "cell_type": "heading",
     "level": 1,
     "metadata": {},
     "source": [
      "Let's make a submission"
     ]
    },
    {
     "cell_type": "code",
     "collapsed": false,
     "input": [
      "cliqueSize = 5\n",
      "tooLittleFriendsInCircleThreshold = 10\n",
      "tooManyNodesThreshold = 220\n",
      "\n",
      "egonetFolderName = 'data/egonets/'\n",
      "submissionFolderName = 'submissions/'\n",
      "\n",
      "def user_clique(user):\n",
      "    \n",
      "    G = get_graph(user)\n",
      "    c = maxrank(user)\n",
      "    \n",
      "    # do not calculate for large graphs (it takes too long)\n",
      "    if len(G.nodes()) > tooManyNodesThreshold:\n",
      "        return (user, [[c]])\n",
      "\n",
      "    # find comunities using k_clique_communities()\n",
      "    listOfCircles = []\n",
      "    kCliqueComunities = list(nx.k_clique_communities(G,cliqueSize))\n",
      "    for community in kCliqueComunities:\n",
      "        # leave only relativly large communities\n",
      "        if len(community) >= tooLittleFriendsInCircleThreshold:\n",
      "            listOfCircles.append(list(community))\n",
      "                \n",
      "    # if no prediction was created, use max pagerank friend\n",
      "    if len(listOfCircles) == 0:\n",
      "        return (user, [[c]])\n",
      "    else:\n",
      "        return (user, listOfCircles)\n",
      "\n",
      "def predict_circles(user):\n",
      "    print user\n",
      "    user, listOfCircles = user_clique(user)\n",
      "    return (user, listOfCircles)"
     ],
     "language": "python",
     "metadata": {},
     "outputs": [],
     "prompt_number": 5
    },
    {
     "cell_type": "heading",
     "level": 3,
     "metadata": {},
     "source": [
      "Make a prediction"
     ]
    },
    {
     "cell_type": "code",
     "collapsed": false,
     "input": [
      "logging.info('Started')\n",
      "    \n",
      "prediction = map(predict_circles, test)\n",
      "\n",
      "logging.info('Finished')"
     ],
     "language": "python",
     "metadata": {},
     "outputs": [
      {
       "output_type": "stream",
       "stream": "stderr",
       "text": [
        "[2014-10-19 15:56:53,187]  Started\n"
       ]
      },
      {
       "output_type": "stream",
       "stream": "stdout",
       "text": [
        "0\n",
        "3077\n",
        "24812\n",
        "14103\n",
        "8338\n",
        "1813\n",
        "26827\n",
        "23063\n",
        "19608\n",
        "15515\n",
        "18844\n",
        "1310\n",
        "13471\n",
        "2976\n",
        "2473\n",
        "12178\n",
        "13687\n",
        "3236\n",
        "20518\n",
        "9199\n",
        "10793\n",
        "11818\n",
        "7983\n",
        "14129\n",
        "18612\n",
        "8890\n",
        "5087\n",
        "850\n",
        "25283\n",
        "19268\n",
        "2630\n",
        "3656\n",
        "1099\n",
        "22223\n",
        "20050\n",
        "26019\n",
        "17748\n",
        "17497\n",
        "22364\n",
        "23978\n",
        "21098\n",
        "25708\n",
        "21869\n",
        "3581\n",
        "5744\n",
        "6934\n",
        "3703\n",
        "15227\n",
        "17002\n",
        "12535"
       ]
      },
      {
       "output_type": "stream",
       "stream": "stderr",
       "text": [
        "[2014-10-19 15:58:20,936]  Finished\n"
       ]
      },
      {
       "output_type": "stream",
       "stream": "stdout",
       "text": [
        "\n"
       ]
      }
     ],
     "prompt_number": 6
    },
    {
     "cell_type": "code",
     "collapsed": false,
     "input": [
      "w = df(prediction, columns=['UserId','Predicted'])\n",
      "\n",
      "prediction = []\n",
      "for row in range(w.shape[0]):\n",
      "    us = w.ix[row,'UserId']\n",
      "    cs = w.ix[row,'Predicted']\n",
      "    cs = [' '.join([str(y) for y in x]) for x in cs]\n",
      "    prediction.append(str(us) + ',' + ';'.join(cs))"
     ],
     "language": "python",
     "metadata": {},
     "outputs": [],
     "prompt_number": 7
    },
    {
     "cell_type": "code",
     "collapsed": false,
     "input": [
      "w = '\\n'.join(prediction)\n",
      "\n",
      "with open(\"submissions/benchmark.csv\", \"wb\") as f:\n",
      "    f.write('UserId,Predicted\\n')\n",
      "    f.write(w)"
     ],
     "language": "python",
     "metadata": {},
     "outputs": [],
     "prompt_number": 8
    },
    {
     "cell_type": "code",
     "collapsed": false,
     "input": [],
     "language": "python",
     "metadata": {},
     "outputs": []
    }
   ],
   "metadata": {}
  }
 ]
}